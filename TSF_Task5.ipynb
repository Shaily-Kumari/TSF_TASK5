{
  "nbformat": 4,
  "nbformat_minor": 0,
  "metadata": {
    "colab": {
      "name": "TSF_Task5.ipynb",
      "provenance": [],
      "collapsed_sections": []
    },
    "kernelspec": {
      "name": "python3",
      "display_name": "Python 3"
    }
  },
  "cells": [
    {
      "cell_type": "code",
      "metadata": {
        "id": "Lue1V-v686aG"
      },
      "source": [
        "##This block is only for access of files using google drive\n",
        "from pydrive.auth import GoogleAuth\n",
        "from pydrive.drive import GoogleDrive\n",
        "from google.colab import auth\n",
        "from oauth2client.client import GoogleCredentials\n",
        "auth.authenticate_user()\n",
        "gauth = GoogleAuth()\n",
        "gauth.credentials = GoogleCredentials.get_application_default()\n",
        "drive = GoogleDrive(gauth)\n",
        "\n",
        "#For accessing any file from google drive\n",
        "downloaded = drive.CreateFile({'id':\"1R9oboklxny8CPKI63DeAKC-A-mTpAegq\"})   \n",
        "downloaded.GetContentFile('SampleSuperstore.csv')"
      ],
      "execution_count": 2,
      "outputs": []
    },
    {
      "cell_type": "markdown",
      "metadata": {
        "id": "_8WFwlDJTwcu"
      },
      "source": [
        "**Showing Dataset**"
      ]
    },
    {
      "cell_type": "code",
      "metadata": {
        "id": "wTaVYWcVHiRJ",
        "outputId": "aec95771-96b6-454a-9042-1a95ef9a672d",
        "colab": {
          "base_uri": "https://localhost:8080/",
          "height": 204
        }
      },
      "source": [
        "import pandas as pd\n",
        "Filename= 'SampleSuperstore.csv'\n",
        "df_sample= pd.read_csv('SampleSuperstore.csv',encoding= 'Latin-1')\n",
        "df_sample.head()"
      ],
      "execution_count": 69,
      "outputs": [
        {
          "output_type": "execute_result",
          "data": {
            "text/html": [
              "<div>\n",
              "<style scoped>\n",
              "    .dataframe tbody tr th:only-of-type {\n",
              "        vertical-align: middle;\n",
              "    }\n",
              "\n",
              "    .dataframe tbody tr th {\n",
              "        vertical-align: top;\n",
              "    }\n",
              "\n",
              "    .dataframe thead th {\n",
              "        text-align: right;\n",
              "    }\n",
              "</style>\n",
              "<table border=\"1\" class=\"dataframe\">\n",
              "  <thead>\n",
              "    <tr style=\"text-align: right;\">\n",
              "      <th></th>\n",
              "      <th>Ship Mode</th>\n",
              "      <th>Segment</th>\n",
              "      <th>Country</th>\n",
              "      <th>City</th>\n",
              "      <th>State</th>\n",
              "      <th>Postal Code</th>\n",
              "      <th>Region</th>\n",
              "      <th>Category</th>\n",
              "      <th>Sub-Category</th>\n",
              "      <th>Sales</th>\n",
              "      <th>Quantity</th>\n",
              "      <th>Discount</th>\n",
              "      <th>Profit</th>\n",
              "    </tr>\n",
              "  </thead>\n",
              "  <tbody>\n",
              "    <tr>\n",
              "      <th>0</th>\n",
              "      <td>Second Class</td>\n",
              "      <td>Consumer</td>\n",
              "      <td>United States</td>\n",
              "      <td>Henderson</td>\n",
              "      <td>Kentucky</td>\n",
              "      <td>42420</td>\n",
              "      <td>South</td>\n",
              "      <td>Furniture</td>\n",
              "      <td>Bookcases</td>\n",
              "      <td>261.9600</td>\n",
              "      <td>2</td>\n",
              "      <td>0.00</td>\n",
              "      <td>41.9136</td>\n",
              "    </tr>\n",
              "    <tr>\n",
              "      <th>1</th>\n",
              "      <td>Second Class</td>\n",
              "      <td>Consumer</td>\n",
              "      <td>United States</td>\n",
              "      <td>Henderson</td>\n",
              "      <td>Kentucky</td>\n",
              "      <td>42420</td>\n",
              "      <td>South</td>\n",
              "      <td>Furniture</td>\n",
              "      <td>Chairs</td>\n",
              "      <td>731.9400</td>\n",
              "      <td>3</td>\n",
              "      <td>0.00</td>\n",
              "      <td>219.5820</td>\n",
              "    </tr>\n",
              "    <tr>\n",
              "      <th>2</th>\n",
              "      <td>Second Class</td>\n",
              "      <td>Corporate</td>\n",
              "      <td>United States</td>\n",
              "      <td>Los Angeles</td>\n",
              "      <td>California</td>\n",
              "      <td>90036</td>\n",
              "      <td>West</td>\n",
              "      <td>Office Supplies</td>\n",
              "      <td>Labels</td>\n",
              "      <td>14.6200</td>\n",
              "      <td>2</td>\n",
              "      <td>0.00</td>\n",
              "      <td>6.8714</td>\n",
              "    </tr>\n",
              "    <tr>\n",
              "      <th>3</th>\n",
              "      <td>Standard Class</td>\n",
              "      <td>Consumer</td>\n",
              "      <td>United States</td>\n",
              "      <td>Fort Lauderdale</td>\n",
              "      <td>Florida</td>\n",
              "      <td>33311</td>\n",
              "      <td>South</td>\n",
              "      <td>Furniture</td>\n",
              "      <td>Tables</td>\n",
              "      <td>957.5775</td>\n",
              "      <td>5</td>\n",
              "      <td>0.45</td>\n",
              "      <td>-383.0310</td>\n",
              "    </tr>\n",
              "    <tr>\n",
              "      <th>4</th>\n",
              "      <td>Standard Class</td>\n",
              "      <td>Consumer</td>\n",
              "      <td>United States</td>\n",
              "      <td>Fort Lauderdale</td>\n",
              "      <td>Florida</td>\n",
              "      <td>33311</td>\n",
              "      <td>South</td>\n",
              "      <td>Office Supplies</td>\n",
              "      <td>Storage</td>\n",
              "      <td>22.3680</td>\n",
              "      <td>2</td>\n",
              "      <td>0.20</td>\n",
              "      <td>2.5164</td>\n",
              "    </tr>\n",
              "  </tbody>\n",
              "</table>\n",
              "</div>"
            ],
            "text/plain": [
              "        Ship Mode    Segment        Country  ... Quantity Discount    Profit\n",
              "0    Second Class   Consumer  United States  ...        2     0.00   41.9136\n",
              "1    Second Class   Consumer  United States  ...        3     0.00  219.5820\n",
              "2    Second Class  Corporate  United States  ...        2     0.00    6.8714\n",
              "3  Standard Class   Consumer  United States  ...        5     0.45 -383.0310\n",
              "4  Standard Class   Consumer  United States  ...        2     0.20    2.5164\n",
              "\n",
              "[5 rows x 13 columns]"
            ]
          },
          "metadata": {
            "tags": []
          },
          "execution_count": 69
        }
      ]
    },
    {
      "cell_type": "markdown",
      "metadata": {
        "id": "ej45jUqoT4VJ"
      },
      "source": [
        "**Showing Null Values**"
      ]
    },
    {
      "cell_type": "code",
      "metadata": {
        "id": "imh9VEybNLOj",
        "outputId": "69dd1e9a-77da-408a-a6dd-fa6177f18569",
        "colab": {
          "base_uri": "https://localhost:8080/",
          "height": 357
        }
      },
      "source": [
        "# Showing there is no null values in data\n",
        "df_sample.info()"
      ],
      "execution_count": 4,
      "outputs": [
        {
          "output_type": "stream",
          "text": [
            "<class 'pandas.core.frame.DataFrame'>\n",
            "RangeIndex: 9994 entries, 0 to 9993\n",
            "Data columns (total 13 columns):\n",
            " #   Column        Non-Null Count  Dtype  \n",
            "---  ------        --------------  -----  \n",
            " 0   Ship Mode     9994 non-null   object \n",
            " 1   Segment       9994 non-null   object \n",
            " 2   Country       9994 non-null   object \n",
            " 3   City          9994 non-null   object \n",
            " 4   State         9994 non-null   object \n",
            " 5   Postal Code   9994 non-null   int64  \n",
            " 6   Region        9994 non-null   object \n",
            " 7   Category      9994 non-null   object \n",
            " 8   Sub-Category  9994 non-null   object \n",
            " 9   Sales         9994 non-null   float64\n",
            " 10  Quantity      9994 non-null   int64  \n",
            " 11  Discount      9994 non-null   float64\n",
            " 12  Profit        9994 non-null   float64\n",
            "dtypes: float64(3), int64(2), object(8)\n",
            "memory usage: 1015.1+ KB\n"
          ],
          "name": "stdout"
        }
      ]
    },
    {
      "cell_type": "markdown",
      "metadata": {
        "id": "DEY2KfvgUM2I"
      },
      "source": [
        ""
      ]
    },
    {
      "cell_type": "markdown",
      "metadata": {
        "id": "Ve00_NzzTGEI"
      },
      "source": [
        "**Correlation Matrix** "
      ]
    },
    {
      "cell_type": "code",
      "metadata": {
        "id": "qEetQUajQkrY",
        "outputId": "f1140070-1713-4c77-8e8b-355cee07ad82",
        "colab": {
          "base_uri": "https://localhost:8080/",
          "height": 395
        }
      },
      "source": [
        "import seaborn as sn\n",
        "import matplotlib.pyplot as plt\n",
        "corr_Mat = df_sample.corr()\n",
        "fig, ax = plt.subplots(figsize=(8,6))  \n",
        "sn.heatmap(corr_Mat, annot=True, ax= ax)"
      ],
      "execution_count": 32,
      "outputs": [
        {
          "output_type": "execute_result",
          "data": {
            "text/plain": [
              "<matplotlib.axes._subplots.AxesSubplot at 0x7f6d6b377470>"
            ]
          },
          "metadata": {
            "tags": []
          },
          "execution_count": 32
        },
        {
          "output_type": "display_data",
          "data": {
            "image/png": "[encoded data removed]",
            "text/plain": [
              "<Figure size 576x432 with 2 Axes>"
            ]
          },
          "metadata": {
            "tags": [],
            "needs_background": "light"
          }
        }
      ]
    },
    {
      "cell_type": "markdown",
      "metadata": {
        "id": "nPF_f-mXUXVv"
      },
      "source": [
        "Correlation matrix shows coorelation between two varibles. Here we can see that \n",
        "\n",
        "*   Profit and Sales are highly correlated. \n",
        "*   Country and Postal Code is negligibily correlated to profit. So we can drop it\n",
        "\n"
      ]
    },
    {
      "cell_type": "code",
      "metadata": {
        "id": "ND-6C1MgM9ee",
        "outputId": "93288fe9-d6cb-439e-c05b-5fade75b5642",
        "colab": {
          "base_uri": "https://localhost:8080/",
          "height": 204
        }
      },
      "source": [
        "# Dropping Postal Code and Country\n",
        "df= df_sample.drop(['Country','Postal Code'], axis=1)\n",
        "df.head()"
      ],
      "execution_count": 25,
      "outputs": [
        {
          "output_type": "execute_result",
          "data": {
            "text/html": [
              "<div>\n",
              "<style scoped>\n",
              "    .dataframe tbody tr th:only-of-type {\n",
              "        vertical-align: middle;\n",
              "    }\n",
              "\n",
              "    .dataframe tbody tr th {\n",
              "        vertical-align: top;\n",
              "    }\n",
              "\n",
              "    .dataframe thead th {\n",
              "        text-align: right;\n",
              "    }\n",
              "</style>\n",
              "<table border=\"1\" class=\"dataframe\">\n",
              "  <thead>\n",
              "    <tr style=\"text-align: right;\">\n",
              "      <th></th>\n",
              "      <th>Ship Mode</th>\n",
              "      <th>Segment</th>\n",
              "      <th>City</th>\n",
              "      <th>State</th>\n",
              "      <th>Region</th>\n",
              "      <th>Category</th>\n",
              "      <th>Sub-Category</th>\n",
              "      <th>Sales</th>\n",
              "      <th>Quantity</th>\n",
              "      <th>Discount</th>\n",
              "      <th>Profit</th>\n",
              "    </tr>\n",
              "  </thead>\n",
              "  <tbody>\n",
              "    <tr>\n",
              "      <th>0</th>\n",
              "      <td>Second Class</td>\n",
              "      <td>Consumer</td>\n",
              "      <td>Henderson</td>\n",
              "      <td>Kentucky</td>\n",
              "      <td>South</td>\n",
              "      <td>Furniture</td>\n",
              "      <td>Bookcases</td>\n",
              "      <td>261.9600</td>\n",
              "      <td>2</td>\n",
              "      <td>0.00</td>\n",
              "      <td>41.9136</td>\n",
              "    </tr>\n",
              "    <tr>\n",
              "      <th>1</th>\n",
              "      <td>Second Class</td>\n",
              "      <td>Consumer</td>\n",
              "      <td>Henderson</td>\n",
              "      <td>Kentucky</td>\n",
              "      <td>South</td>\n",
              "      <td>Furniture</td>\n",
              "      <td>Chairs</td>\n",
              "      <td>731.9400</td>\n",
              "      <td>3</td>\n",
              "      <td>0.00</td>\n",
              "      <td>219.5820</td>\n",
              "    </tr>\n",
              "    <tr>\n",
              "      <th>2</th>\n",
              "      <td>Second Class</td>\n",
              "      <td>Corporate</td>\n",
              "      <td>Los Angeles</td>\n",
              "      <td>California</td>\n",
              "      <td>West</td>\n",
              "      <td>Office Supplies</td>\n",
              "      <td>Labels</td>\n",
              "      <td>14.6200</td>\n",
              "      <td>2</td>\n",
              "      <td>0.00</td>\n",
              "      <td>6.8714</td>\n",
              "    </tr>\n",
              "    <tr>\n",
              "      <th>3</th>\n",
              "      <td>Standard Class</td>\n",
              "      <td>Consumer</td>\n",
              "      <td>Fort Lauderdale</td>\n",
              "      <td>Florida</td>\n",
              "      <td>South</td>\n",
              "      <td>Furniture</td>\n",
              "      <td>Tables</td>\n",
              "      <td>957.5775</td>\n",
              "      <td>5</td>\n",
              "      <td>0.45</td>\n",
              "      <td>-383.0310</td>\n",
              "    </tr>\n",
              "    <tr>\n",
              "      <th>4</th>\n",
              "      <td>Standard Class</td>\n",
              "      <td>Consumer</td>\n",
              "      <td>Fort Lauderdale</td>\n",
              "      <td>Florida</td>\n",
              "      <td>South</td>\n",
              "      <td>Office Supplies</td>\n",
              "      <td>Storage</td>\n",
              "      <td>22.3680</td>\n",
              "      <td>2</td>\n",
              "      <td>0.20</td>\n",
              "      <td>2.5164</td>\n",
              "    </tr>\n",
              "  </tbody>\n",
              "</table>\n",
              "</div>"
            ],
            "text/plain": [
              "        Ship Mode    Segment             City  ... Quantity Discount    Profit\n",
              "0    Second Class   Consumer        Henderson  ...        2     0.00   41.9136\n",
              "1    Second Class   Consumer        Henderson  ...        3     0.00  219.5820\n",
              "2    Second Class  Corporate      Los Angeles  ...        2     0.00    6.8714\n",
              "3  Standard Class   Consumer  Fort Lauderdale  ...        5     0.45 -383.0310\n",
              "4  Standard Class   Consumer  Fort Lauderdale  ...        2     0.20    2.5164\n",
              "\n",
              "[5 rows x 11 columns]"
            ]
          },
          "metadata": {
            "tags": []
          },
          "execution_count": 25
        }
      ]
    },
    {
      "cell_type": "markdown",
      "metadata": {
        "id": "IcZZkZElWDyN"
      },
      "source": [
        "**Single Variate Analysis**"
      ]
    },
    {
      "cell_type": "code",
      "metadata": {
        "id": "GRS6uiBPt1-E",
        "outputId": "cc96f677-82e6-47a0-dc11-c431b0040692",
        "colab": {
          "base_uri": "https://localhost:8080/",
          "height": 551
        }
      },
      "source": [
        "import matplotlib.pyplot as plt\n",
        "plt.figure(figsize=(12,8))\n",
        "plt.hist(df_sample['Ship Mode'],bins=10, color='purple', alpha=0.8, label='Value', linewidth=2)"
      ],
      "execution_count": 50,
      "outputs": [
        {
          "output_type": "execute_result",
          "data": {
            "text/plain": [
              "(array([1945.,    0.,    0., 5968.,    0.,    0., 1538.,    0.,    0.,\n",
              "         543.]),\n",
              " array([0. , 0.3, 0.6, 0.9, 1.2, 1.5, 1.8, 2.1, 2.4, 2.7, 3. ]),\n",
              " <a list of 10 Patch objects>)"
            ]
          },
          "metadata": {
            "tags": []
          },
          "execution_count": 50
        },
        {
          "output_type": "display_data",
          "data": {
            "image/png": "[encoded data removed]",
            "text/plain": [
              "<Figure size 864x576 with 1 Axes>"
            ]
          },
          "metadata": {
            "tags": [],
            "needs_background": "light"
          }
        }
      ]
    },
    {
      "cell_type": "code",
      "metadata": {
        "id": "7S6ru_XDw0df",
        "outputId": "217d7a5a-1ad0-4cb5-b5d6-d57ef7f29e53",
        "colab": {
          "base_uri": "https://localhost:8080/",
          "height": 551
        }
      },
      "source": [
        "plt.figure(figsize=(12,8))\n",
        "plt.hist(df_sample['Segment'],bins=10, color='purple', alpha=0.8, label='Value', linewidth=2)"
      ],
      "execution_count": 51,
      "outputs": [
        {
          "output_type": "execute_result",
          "data": {
            "text/plain": [
              "(array([5191.,    0.,    0.,    0.,    0., 3020.,    0.,    0.,    0.,\n",
              "        1783.]),\n",
              " array([0. , 0.2, 0.4, 0.6, 0.8, 1. , 1.2, 1.4, 1.6, 1.8, 2. ]),\n",
              " <a list of 10 Patch objects>)"
            ]
          },
          "metadata": {
            "tags": []
          },
          "execution_count": 51
        },
        {
          "output_type": "display_data",
          "data": {
            "image/png": "[encoded data removed]",
            "text/plain": [
              "<Figure size 864x576 with 1 Axes>"
            ]
          },
          "metadata": {
            "tags": [],
            "needs_background": "light"
          }
        }
      ]
    },
    {
      "cell_type": "code",
      "metadata": {
        "id": "MA_b9K4y68Ys",
        "outputId": "94d98cf4-c91d-4e22-c105-4af3ddb54e3d",
        "colab": {
          "base_uri": "https://localhost:8080/",
          "height": 551
        }
      },
      "source": [
        "plt.figure(figsize=(12,8))\n",
        "plt.hist(df_sample['Category'],bins=10, color='purple', alpha=0.8, label='Value', linewidth=2)"
      ],
      "execution_count": 52,
      "outputs": [
        {
          "output_type": "execute_result",
          "data": {
            "text/plain": [
              "(array([2121.,    0.,    0.,    0.,    0., 6026.,    0.,    0.,    0.,\n",
              "        1847.]),\n",
              " array([0. , 0.2, 0.4, 0.6, 0.8, 1. , 1.2, 1.4, 1.6, 1.8, 2. ]),\n",
              " <a list of 10 Patch objects>)"
            ]
          },
          "metadata": {
            "tags": []
          },
          "execution_count": 52
        },
        {
          "output_type": "display_data",
          "data": {
            "image/png": "[encoded data removed]",
            "text/plain": [
              "<Figure size 864x576 with 1 Axes>"
            ]
          },
          "metadata": {
            "tags": [],
            "needs_background": "light"
          }
        }
      ]
    },
    {
      "cell_type": "code",
      "metadata": {
        "id": "y2vT-KBD6VA5",
        "outputId": "92604895-ae2a-426a-b9b5-c34aeb5d085c",
        "colab": {
          "base_uri": "https://localhost:8080/",
          "height": 566
        }
      },
      "source": [
        "plt.figure(figsize=(12,8)) #change your figure size as per your desire here\n",
        "n,bins,patch = plt.hist(df_sample['Sub-Category'],bins=10, color='green', alpha=0.8, label='Value', edgecolor='orange', linewidth=2)\n",
        "plt.xticks(rotation=90)"
      ],
      "execution_count": 68,
      "outputs": [
        {
          "output_type": "execute_result",
          "data": {
            "text/plain": [
              "([0, 1, 2, 3, 4, 5, 6, 7, 8, 9, 10, 11, 12, 13, 14, 15, 16],\n",
              " <a list of 17 Text major ticklabel objects>)"
            ]
          },
          "metadata": {
            "tags": []
          },
          "execution_count": 68
        },
        {
          "output_type": "display_data",
          "data": {
            "image/png": "[encoded data removed]",
            "text/plain": [
              "<Figure size 864x576 with 1 Axes>"
            ]
          },
          "metadata": {
            "tags": [],
            "needs_background": "light"
          }
        }
      ]
    },
    {
      "cell_type": "code",
      "metadata": {
        "id": "qUxcL-ZlxpZk",
        "outputId": "12527fa0-70ae-49b5-87d7-67f6b2fb40f9",
        "colab": {
          "base_uri": "https://localhost:8080/",
          "height": 523
        }
      },
      "source": [
        "plt.figure(figsize=(12,8))\n",
        "n,bins,patch = plt.hist(df_sample['Region'],bins=10, color='purple', alpha=0.8, label='Value', linewidth=2)\n",
        "plt.xticks(rotation=45)"
      ],
      "execution_count": 54,
      "outputs": [
        {
          "output_type": "execute_result",
          "data": {
            "text/plain": [
              "([0, 1, 2, 3], <a list of 4 Text major ticklabel objects>)"
            ]
          },
          "metadata": {
            "tags": []
          },
          "execution_count": 54
        },
        {
          "output_type": "display_data",
          "data": {
            "image/png": "[encoded data removed]",
            "text/plain": [
              "<Figure size 864x576 with 1 Axes>"
            ]
          },
          "metadata": {
            "tags": [],
            "needs_background": "light"
          }
        }
      ]
    },
    {
      "cell_type": "markdown",
      "metadata": {
        "id": "86plvpbPXBFw"
      },
      "source": [
        "**Bivariate Analysis**"
      ]
    },
    {
      "cell_type": "code",
      "metadata": {
        "id": "glSvwFpSREOG",
        "outputId": "18ac4e09-cae1-4de3-b24e-2f3db7e26adf",
        "colab": {
          "base_uri": "https://localhost:8080/",
          "height": 454
        }
      },
      "source": [
        "sn.catplot('Region',data= df_sample,hue='Segment',kind=\"count\",aspect=2.8,palette=\"plasma\")"
      ],
      "execution_count": 55,
      "outputs": [
        {
          "output_type": "stream",
          "text": [
            "/usr/local/lib/python3.6/dist-packages/seaborn/_decorators.py:43: FutureWarning: Pass the following variable as a keyword arg: x. From version 0.12, the only valid positional argument will be `data`, and passing other arguments without an explicit keyword will result in an error or misinterpretation.\n",
            "  FutureWarning\n"
          ],
          "name": "stderr"
        },
        {
          "output_type": "execute_result",
          "data": {
            "text/plain": [
              "<seaborn.axisgrid.FacetGrid at 0x7f6d6adcc6a0>"
            ]
          },
          "metadata": {
            "tags": []
          },
          "execution_count": 55
        },
        {
          "output_type": "display_data",
          "data": {
            "image/png": "[encoded data removed]",
            "text/plain": [
              "<Figure size 1105.88x360 with 1 Axes>"
            ]
          },
          "metadata": {
            "tags": [],
            "needs_background": "light"
          }
        }
      ]
    },
    {
      "cell_type": "markdown",
      "metadata": {
        "id": "F2_jDpIYcAtp"
      },
      "source": [
        "Cosumer forms a major segment followed by Corporate and Home Office in all the regions"
      ]
    },
    {
      "cell_type": "code",
      "metadata": {
        "id": "QcptPCfcY_f6",
        "outputId": "ca1a8e06-5fc3-4bdb-ed79-13cd6bafed0e",
        "colab": {
          "base_uri": "https://localhost:8080/",
          "height": 454
        }
      },
      "source": [
        "sn.catplot('Region',data= df_sample,hue='Ship Mode',kind=\"count\",aspect=2.8,palette=\"plasma\")"
      ],
      "execution_count": 56,
      "outputs": [
        {
          "output_type": "stream",
          "text": [
            "/usr/local/lib/python3.6/dist-packages/seaborn/_decorators.py:43: FutureWarning: Pass the following variable as a keyword arg: x. From version 0.12, the only valid positional argument will be `data`, and passing other arguments without an explicit keyword will result in an error or misinterpretation.\n",
            "  FutureWarning\n"
          ],
          "name": "stderr"
        },
        {
          "output_type": "execute_result",
          "data": {
            "text/plain": [
              "<seaborn.axisgrid.FacetGrid at 0x7f6d6a92f6a0>"
            ]
          },
          "metadata": {
            "tags": []
          },
          "execution_count": 56
        },
        {
          "output_type": "display_data",
          "data": {
            "image/png": "[encoded data removed]",
            "text/plain": [
              "<Figure size 1119x360 with 1 Axes>"
            ]
          },
          "metadata": {
            "tags": [],
            "needs_background": "light"
          }
        }
      ]
    },
    {
      "cell_type": "markdown",
      "metadata": {
        "id": "gtQV40rpceW1"
      },
      "source": [
        "Standard Class forms major ship mode segment in all the regions"
      ]
    },
    {
      "cell_type": "code",
      "metadata": {
        "id": "T0-u1_YDZKVh",
        "outputId": "15936b50-dccf-4462-a1ff-240a83e41331",
        "colab": {
          "base_uri": "https://localhost:8080/",
          "height": 454
        }
      },
      "source": [
        "sn.catplot('Region',data= df_sample,hue='Category',kind=\"count\",aspect=2.8,palette=\"plasma\")"
      ],
      "execution_count": 57,
      "outputs": [
        {
          "output_type": "stream",
          "text": [
            "/usr/local/lib/python3.6/dist-packages/seaborn/_decorators.py:43: FutureWarning: Pass the following variable as a keyword arg: x. From version 0.12, the only valid positional argument will be `data`, and passing other arguments without an explicit keyword will result in an error or misinterpretation.\n",
            "  FutureWarning\n"
          ],
          "name": "stderr"
        },
        {
          "output_type": "execute_result",
          "data": {
            "text/plain": [
              "<seaborn.axisgrid.FacetGrid at 0x7f6d6ae991d0>"
            ]
          },
          "metadata": {
            "tags": []
          },
          "execution_count": 57
        },
        {
          "output_type": "display_data",
          "data": {
            "image/png": "[encoded data removed]",
            "text/plain": [
              "<Figure size 1118.88x360 with 1 Axes>"
            ]
          },
          "metadata": {
            "tags": [],
            "needs_background": "light"
          }
        }
      ]
    },
    {
      "cell_type": "markdown",
      "metadata": {
        "id": "LgP2EqIccwOq"
      },
      "source": [
        "This shows office supplies are in demand "
      ]
    },
    {
      "cell_type": "code",
      "metadata": {
        "id": "zd5WsQrxZRat",
        "outputId": "70f0fbcd-3d12-4108-ef68-bdbf105d5a73",
        "colab": {
          "base_uri": "https://localhost:8080/",
          "height": 454
        }
      },
      "source": [
        "sn.catplot('Region',data= df_sample,hue='Sub-Category',kind=\"count\",aspect=2.8,palette=\"plasma\")"
      ],
      "execution_count": 58,
      "outputs": [
        {
          "output_type": "stream",
          "text": [
            "/usr/local/lib/python3.6/dist-packages/seaborn/_decorators.py:43: FutureWarning: Pass the following variable as a keyword arg: x. From version 0.12, the only valid positional argument will be `data`, and passing other arguments without an explicit keyword will result in an error or misinterpretation.\n",
            "  FutureWarning\n"
          ],
          "name": "stderr"
        },
        {
          "output_type": "execute_result",
          "data": {
            "text/plain": [
              "<seaborn.axisgrid.FacetGrid at 0x7f6d6b0e02e8>"
            ]
          },
          "metadata": {
            "tags": []
          },
          "execution_count": 58
        },
        {
          "output_type": "display_data",
          "data": {
            "image/png": "[encoded data removed]",
            "text/plain": [
              "<Figure size 1102.75x360 with 1 Axes>"
            ]
          },
          "metadata": {
            "tags": [],
            "needs_background": "light"
          }
        }
      ]
    },
    {
      "cell_type": "code",
      "metadata": {
        "id": "Q-1I2o1pZojD",
        "outputId": "ceefcfbc-4319-41c9-d16c-4d19ff60e723",
        "colab": {
          "base_uri": "https://localhost:8080/",
          "height": 454
        }
      },
      "source": [
        "sn.catplot('Ship Mode',data= df_sample,hue='Segment',kind=\"count\",aspect=2.8,palette=\"plasma\")"
      ],
      "execution_count": 59,
      "outputs": [
        {
          "output_type": "stream",
          "text": [
            "/usr/local/lib/python3.6/dist-packages/seaborn/_decorators.py:43: FutureWarning: Pass the following variable as a keyword arg: x. From version 0.12, the only valid positional argument will be `data`, and passing other arguments without an explicit keyword will result in an error or misinterpretation.\n",
            "  FutureWarning\n"
          ],
          "name": "stderr"
        },
        {
          "output_type": "execute_result",
          "data": {
            "text/plain": [
              "<seaborn.axisgrid.FacetGrid at 0x7f6d6a5d34e0>"
            ]
          },
          "metadata": {
            "tags": []
          },
          "execution_count": 59
        },
        {
          "output_type": "display_data",
          "data": {
            "image/png": "[encoded data removed]",
            "text/plain": [
              "<Figure size 1105.88x360 with 1 Axes>"
            ]
          },
          "metadata": {
            "tags": [],
            "needs_background": "light"
          }
        }
      ]
    },
    {
      "cell_type": "markdown",
      "metadata": {
        "id": "j2k-uD3ObGb6"
      },
      "source": [
        "**Multivariate Analysis**"
      ]
    },
    {
      "cell_type": "code",
      "metadata": {
        "id": "e_-CGaRiNLQ0",
        "outputId": "2137e343-1af4-4f63-ea54-d92fb7eeef9e",
        "colab": {
          "base_uri": "https://localhost:8080/",
          "height": 227
        }
      },
      "source": [
        "Sort_region= df_sample.groupby('Region', as_index=False)['Profit','Sales','Discount','Quantity'].sum()\n",
        "Sort_region.sort_values(['Profit'], axis=0,ascending= False)\n"
      ],
      "execution_count": 13,
      "outputs": [
        {
          "output_type": "stream",
          "text": [
            "/usr/local/lib/python3.6/dist-packages/ipykernel_launcher.py:1: FutureWarning: Indexing with multiple keys (implicitly converted to a tuple of keys) will be deprecated, use a list instead.\n",
            "  \"\"\"Entry point for launching an IPython kernel.\n"
          ],
          "name": "stderr"
        },
        {
          "output_type": "execute_result",
          "data": {
            "text/html": [
              "<div>\n",
              "<style scoped>\n",
              "    .dataframe tbody tr th:only-of-type {\n",
              "        vertical-align: middle;\n",
              "    }\n",
              "\n",
              "    .dataframe tbody tr th {\n",
              "        vertical-align: top;\n",
              "    }\n",
              "\n",
              "    .dataframe thead th {\n",
              "        text-align: right;\n",
              "    }\n",
              "</style>\n",
              "<table border=\"1\" class=\"dataframe\">\n",
              "  <thead>\n",
              "    <tr style=\"text-align: right;\">\n",
              "      <th></th>\n",
              "      <th>Region</th>\n",
              "      <th>Profit</th>\n",
              "      <th>Sales</th>\n",
              "      <th>Discount</th>\n",
              "      <th>Quantity</th>\n",
              "    </tr>\n",
              "  </thead>\n",
              "  <tbody>\n",
              "    <tr>\n",
              "      <th>3</th>\n",
              "      <td>West</td>\n",
              "      <td>108418.4489</td>\n",
              "      <td>725457.8245</td>\n",
              "      <td>350.20</td>\n",
              "      <td>12266</td>\n",
              "    </tr>\n",
              "    <tr>\n",
              "      <th>1</th>\n",
              "      <td>East</td>\n",
              "      <td>91522.7800</td>\n",
              "      <td>678781.2400</td>\n",
              "      <td>414.00</td>\n",
              "      <td>10618</td>\n",
              "    </tr>\n",
              "    <tr>\n",
              "      <th>2</th>\n",
              "      <td>South</td>\n",
              "      <td>46749.4303</td>\n",
              "      <td>391721.9050</td>\n",
              "      <td>238.55</td>\n",
              "      <td>6209</td>\n",
              "    </tr>\n",
              "    <tr>\n",
              "      <th>0</th>\n",
              "      <td>Central</td>\n",
              "      <td>39706.3625</td>\n",
              "      <td>501239.8908</td>\n",
              "      <td>558.34</td>\n",
              "      <td>8780</td>\n",
              "    </tr>\n",
              "  </tbody>\n",
              "</table>\n",
              "</div>"
            ],
            "text/plain": [
              "    Region       Profit        Sales  Discount  Quantity\n",
              "3     West  108418.4489  725457.8245    350.20     12266\n",
              "1     East   91522.7800  678781.2400    414.00     10618\n",
              "2    South   46749.4303  391721.9050    238.55      6209\n",
              "0  Central   39706.3625  501239.8908    558.34      8780"
            ]
          },
          "metadata": {
            "tags": []
          },
          "execution_count": 13
        }
      ]
    },
    {
      "cell_type": "code",
      "metadata": {
        "id": "YOlc0XxZn7ae",
        "outputId": "895340fc-e80d-4a1f-9828-5abcb5ecbef2",
        "colab": {
          "base_uri": "https://localhost:8080/",
          "height": 431
        }
      },
      "source": [
        "Sort_region.plot(x=\t\"Region\", y=[\"Profit\", \"Sales\", \"Quantity\"], kind=\"bar\",figsize= (15,6))"
      ],
      "execution_count": 62,
      "outputs": [
        {
          "output_type": "execute_result",
          "data": {
            "text/plain": [
              "<matplotlib.axes._subplots.AxesSubplot at 0x7f6d6a3f5d68>"
            ]
          },
          "metadata": {
            "tags": []
          },
          "execution_count": 62
        },
        {
          "output_type": "display_data",
          "data": {
            "image/png": "[encoded data removed]",
            "text/plain": [
              "<Figure size 1080x432 with 1 Axes>"
            ]
          },
          "metadata": {
            "tags": [],
            "needs_background": "light"
          }
        }
      ]
    },
    {
      "cell_type": "markdown",
      "metadata": {
        "id": "Q0ULZBh7dPQP"
      },
      "source": [
        ""
      ]
    },
    {
      "cell_type": "code",
      "metadata": {
        "id": "6HjlmdKnOEaf",
        "outputId": "94c1fb6c-392a-4c2b-c310-af935a6f5752",
        "colab": {
          "base_uri": "https://localhost:8080/",
          "height": 227
        }
      },
      "source": [
        "Sort_mode= df_sample.groupby('Ship Mode', as_index=False)['Profit','Sales','Discount','Quantity'].sum()\n",
        "Sort_mode.sort_values(['Profit'], axis=0,ascending= False)"
      ],
      "execution_count": 15,
      "outputs": [
        {
          "output_type": "stream",
          "text": [
            "/usr/local/lib/python3.6/dist-packages/ipykernel_launcher.py:1: FutureWarning: Indexing with multiple keys (implicitly converted to a tuple of keys) will be deprecated, use a list instead.\n",
            "  \"\"\"Entry point for launching an IPython kernel.\n"
          ],
          "name": "stderr"
        },
        {
          "output_type": "execute_result",
          "data": {
            "text/html": [
              "<div>\n",
              "<style scoped>\n",
              "    .dataframe tbody tr th:only-of-type {\n",
              "        vertical-align: middle;\n",
              "    }\n",
              "\n",
              "    .dataframe tbody tr th {\n",
              "        vertical-align: top;\n",
              "    }\n",
              "\n",
              "    .dataframe thead th {\n",
              "        text-align: right;\n",
              "    }\n",
              "</style>\n",
              "<table border=\"1\" class=\"dataframe\">\n",
              "  <thead>\n",
              "    <tr style=\"text-align: right;\">\n",
              "      <th></th>\n",
              "      <th>Ship Mode</th>\n",
              "      <th>Profit</th>\n",
              "      <th>Sales</th>\n",
              "      <th>Discount</th>\n",
              "      <th>Quantity</th>\n",
              "    </tr>\n",
              "  </thead>\n",
              "  <tbody>\n",
              "    <tr>\n",
              "      <th>3</th>\n",
              "      <td>Standard Class</td>\n",
              "      <td>164088.7875</td>\n",
              "      <td>1.358216e+06</td>\n",
              "      <td>955.02</td>\n",
              "      <td>22797</td>\n",
              "    </tr>\n",
              "    <tr>\n",
              "      <th>2</th>\n",
              "      <td>Second Class</td>\n",
              "      <td>57446.6354</td>\n",
              "      <td>4.591936e+05</td>\n",
              "      <td>270.15</td>\n",
              "      <td>7423</td>\n",
              "    </tr>\n",
              "    <tr>\n",
              "      <th>0</th>\n",
              "      <td>First Class</td>\n",
              "      <td>48969.8399</td>\n",
              "      <td>3.514284e+05</td>\n",
              "      <td>253.17</td>\n",
              "      <td>5693</td>\n",
              "    </tr>\n",
              "    <tr>\n",
              "      <th>1</th>\n",
              "      <td>Same Day</td>\n",
              "      <td>15891.7589</td>\n",
              "      <td>1.283631e+05</td>\n",
              "      <td>82.75</td>\n",
              "      <td>1960</td>\n",
              "    </tr>\n",
              "  </tbody>\n",
              "</table>\n",
              "</div>"
            ],
            "text/plain": [
              "        Ship Mode       Profit         Sales  Discount  Quantity\n",
              "3  Standard Class  164088.7875  1.358216e+06    955.02     22797\n",
              "2    Second Class   57446.6354  4.591936e+05    270.15      7423\n",
              "0     First Class   48969.8399  3.514284e+05    253.17      5693\n",
              "1        Same Day   15891.7589  1.283631e+05     82.75      1960"
            ]
          },
          "metadata": {
            "tags": []
          },
          "execution_count": 15
        }
      ]
    },
    {
      "cell_type": "code",
      "metadata": {
        "id": "-2ubpYQOp6YO",
        "outputId": "3e2b64ad-044a-4150-e7b0-a8d4cbe035b6",
        "colab": {
          "base_uri": "https://localhost:8080/",
          "height": 481
        }
      },
      "source": [
        "Sort_mode.plot(x=\t\"Ship Mode\", y=[\"Profit\", \"Sales\", \"Quantity\"], kind=\"bar\",figsize= (15,6))"
      ],
      "execution_count": 63,
      "outputs": [
        {
          "output_type": "execute_result",
          "data": {
            "text/plain": [
              "<matplotlib.axes._subplots.AxesSubplot at 0x7f6d6a5148d0>"
            ]
          },
          "metadata": {
            "tags": []
          },
          "execution_count": 63
        },
        {
          "output_type": "display_data",
          "data": {
            "image/png": "[encoded data removed]",
            "text/plain": [
              "<Figure size 1080x432 with 1 Axes>"
            ]
          },
          "metadata": {
            "tags": [],
            "needs_background": "light"
          }
        }
      ]
    },
    {
      "cell_type": "markdown",
      "metadata": {
        "id": "YnWnNrVfdgJ1"
      },
      "source": [
        "This shows using Standard Class Ship Mode is most profitable. But it should be observed that irrepective of less sales in First and Second Class, it is making comparatively good profit.\n",
        "Thus Company should increase sales in First and Second class for more profit."
      ]
    },
    {
      "cell_type": "code",
      "metadata": {
        "id": "six1q5H0PDS0",
        "outputId": "59b19beb-96c8-4756-8f8f-3c0af9b1c9a5",
        "colab": {
          "base_uri": "https://localhost:8080/",
          "height": 196
        }
      },
      "source": [
        "Sort_segment= df_sample.groupby('Segment', as_index=False)['Profit','Sales','Discount','Quantity'].sum()\n",
        "Sort_segment.sort_values(['Profit'], axis=0,ascending= False)"
      ],
      "execution_count": 17,
      "outputs": [
        {
          "output_type": "stream",
          "text": [
            "/usr/local/lib/python3.6/dist-packages/ipykernel_launcher.py:1: FutureWarning: Indexing with multiple keys (implicitly converted to a tuple of keys) will be deprecated, use a list instead.\n",
            "  \"\"\"Entry point for launching an IPython kernel.\n"
          ],
          "name": "stderr"
        },
        {
          "output_type": "execute_result",
          "data": {
            "text/html": [
              "<div>\n",
              "<style scoped>\n",
              "    .dataframe tbody tr th:only-of-type {\n",
              "        vertical-align: middle;\n",
              "    }\n",
              "\n",
              "    .dataframe tbody tr th {\n",
              "        vertical-align: top;\n",
              "    }\n",
              "\n",
              "    .dataframe thead th {\n",
              "        text-align: right;\n",
              "    }\n",
              "</style>\n",
              "<table border=\"1\" class=\"dataframe\">\n",
              "  <thead>\n",
              "    <tr style=\"text-align: right;\">\n",
              "      <th></th>\n",
              "      <th>Segment</th>\n",
              "      <th>Profit</th>\n",
              "      <th>Sales</th>\n",
              "      <th>Discount</th>\n",
              "      <th>Quantity</th>\n",
              "    </tr>\n",
              "  </thead>\n",
              "  <tbody>\n",
              "    <tr>\n",
              "      <th>0</th>\n",
              "      <td>Consumer</td>\n",
              "      <td>134119.2092</td>\n",
              "      <td>1.161401e+06</td>\n",
              "      <td>820.91</td>\n",
              "      <td>19521</td>\n",
              "    </tr>\n",
              "    <tr>\n",
              "      <th>1</th>\n",
              "      <td>Corporate</td>\n",
              "      <td>91979.1340</td>\n",
              "      <td>7.061464e+05</td>\n",
              "      <td>477.85</td>\n",
              "      <td>11608</td>\n",
              "    </tr>\n",
              "    <tr>\n",
              "      <th>2</th>\n",
              "      <td>Home Office</td>\n",
              "      <td>60298.6785</td>\n",
              "      <td>4.296531e+05</td>\n",
              "      <td>262.33</td>\n",
              "      <td>6744</td>\n",
              "    </tr>\n",
              "  </tbody>\n",
              "</table>\n",
              "</div>"
            ],
            "text/plain": [
              "       Segment       Profit         Sales  Discount  Quantity\n",
              "0     Consumer  134119.2092  1.161401e+06    820.91     19521\n",
              "1    Corporate   91979.1340  7.061464e+05    477.85     11608\n",
              "2  Home Office   60298.6785  4.296531e+05    262.33      6744"
            ]
          },
          "metadata": {
            "tags": []
          },
          "execution_count": 17
        }
      ]
    },
    {
      "cell_type": "code",
      "metadata": {
        "id": "yRIurxSQqWsz",
        "outputId": "715d4cde-061c-4dec-eb19-b4a566a463bd",
        "colab": {
          "base_uri": "https://localhost:8080/",
          "height": 468
        }
      },
      "source": [
        "Sort_segment.plot(x=\t\"Segment\", y=[\"Profit\", \"Sales\", \"Quantity\"], kind=\"bar\",figsize= (15,6))"
      ],
      "execution_count": 64,
      "outputs": [
        {
          "output_type": "execute_result",
          "data": {
            "text/plain": [
              "<matplotlib.axes._subplots.AxesSubplot at 0x7f6d6a30d5c0>"
            ]
          },
          "metadata": {
            "tags": []
          },
          "execution_count": 64
        },
        {
          "output_type": "display_data",
          "data": {
            "image/png": "[encoded data removed]",
            "text/plain": [
              "<Figure size 1080x432 with 1 Axes>"
            ]
          },
          "metadata": {
            "tags": [],
            "needs_background": "light"
          }
        }
      ]
    },
    {
      "cell_type": "markdown",
      "metadata": {
        "id": "2-1hSRZce2ZD"
      },
      "source": [
        "This shows Consumer Class is most profitable. But it should be observed that irrepective of less sales in Corporate and Home Office, it is making comparatively good profit.\n",
        "Thus Company should increase sales in Corporate and Home Office for more profit."
      ]
    },
    {
      "cell_type": "code",
      "metadata": {
        "id": "wzQlbJZlPcCR",
        "outputId": "ccc3eb6d-649b-4f0e-d681-5adf4481bea9",
        "colab": {
          "base_uri": "https://localhost:8080/",
          "height": 1000
        }
      },
      "source": [
        "Sort_state= df_sample.groupby('State', as_index=False)['Profit','Sales','Discount','Quantity'].sum()\n",
        "Sort_state.sort_values(['Profit'], axis=0,ascending= False)"
      ],
      "execution_count": 19,
      "outputs": [
        {
          "output_type": "stream",
          "text": [
            "/usr/local/lib/python3.6/dist-packages/ipykernel_launcher.py:1: FutureWarning: Indexing with multiple keys (implicitly converted to a tuple of keys) will be deprecated, use a list instead.\n",
            "  \"\"\"Entry point for launching an IPython kernel.\n"
          ],
          "name": "stderr"
        },
        {
          "output_type": "execute_result",
          "data": {
            "text/html": [
              "<div>\n",
              "<style scoped>\n",
              "    .dataframe tbody tr th:only-of-type {\n",
              "        vertical-align: middle;\n",
              "    }\n",
              "\n",
              "    .dataframe tbody tr th {\n",
              "        vertical-align: top;\n",
              "    }\n",
              "\n",
              "    .dataframe thead th {\n",
              "        text-align: right;\n",
              "    }\n",
              "</style>\n",
              "<table border=\"1\" class=\"dataframe\">\n",
              "  <thead>\n",
              "    <tr style=\"text-align: right;\">\n",
              "      <th></th>\n",
              "      <th>State</th>\n",
              "      <th>Profit</th>\n",
              "      <th>Sales</th>\n",
              "      <th>Discount</th>\n",
              "      <th>Quantity</th>\n",
              "    </tr>\n",
              "  </thead>\n",
              "  <tbody>\n",
              "    <tr>\n",
              "      <th>3</th>\n",
              "      <td>California</td>\n",
              "      <td>76381.3871</td>\n",
              "      <td>457687.6315</td>\n",
              "      <td>145.60</td>\n",
              "      <td>7667</td>\n",
              "    </tr>\n",
              "    <tr>\n",
              "      <th>30</th>\n",
              "      <td>New York</td>\n",
              "      <td>74038.5486</td>\n",
              "      <td>310876.2710</td>\n",
              "      <td>62.40</td>\n",
              "      <td>4224</td>\n",
              "    </tr>\n",
              "    <tr>\n",
              "      <th>45</th>\n",
              "      <td>Washington</td>\n",
              "      <td>33402.6517</td>\n",
              "      <td>138641.2700</td>\n",
              "      <td>32.40</td>\n",
              "      <td>1883</td>\n",
              "    </tr>\n",
              "    <tr>\n",
              "      <th>20</th>\n",
              "      <td>Michigan</td>\n",
              "      <td>24463.1876</td>\n",
              "      <td>76269.6140</td>\n",
              "      <td>1.80</td>\n",
              "      <td>946</td>\n",
              "    </tr>\n",
              "    <tr>\n",
              "      <th>44</th>\n",
              "      <td>Virginia</td>\n",
              "      <td>18597.9504</td>\n",
              "      <td>70636.7200</td>\n",
              "      <td>0.00</td>\n",
              "      <td>893</td>\n",
              "    </tr>\n",
              "    <tr>\n",
              "      <th>12</th>\n",
              "      <td>Indiana</td>\n",
              "      <td>18382.9363</td>\n",
              "      <td>53555.3600</td>\n",
              "      <td>0.00</td>\n",
              "      <td>578</td>\n",
              "    </tr>\n",
              "    <tr>\n",
              "      <th>9</th>\n",
              "      <td>Georgia</td>\n",
              "      <td>16250.0433</td>\n",
              "      <td>49095.8400</td>\n",
              "      <td>0.00</td>\n",
              "      <td>705</td>\n",
              "    </tr>\n",
              "    <tr>\n",
              "      <th>15</th>\n",
              "      <td>Kentucky</td>\n",
              "      <td>11199.6966</td>\n",
              "      <td>36591.7500</td>\n",
              "      <td>0.00</td>\n",
              "      <td>523</td>\n",
              "    </tr>\n",
              "    <tr>\n",
              "      <th>21</th>\n",
              "      <td>Minnesota</td>\n",
              "      <td>10823.1874</td>\n",
              "      <td>29863.1500</td>\n",
              "      <td>0.00</td>\n",
              "      <td>331</td>\n",
              "    </tr>\n",
              "    <tr>\n",
              "      <th>6</th>\n",
              "      <td>Delaware</td>\n",
              "      <td>9977.3748</td>\n",
              "      <td>27451.0690</td>\n",
              "      <td>0.60</td>\n",
              "      <td>367</td>\n",
              "    </tr>\n",
              "    <tr>\n",
              "      <th>28</th>\n",
              "      <td>New Jersey</td>\n",
              "      <td>9772.9138</td>\n",
              "      <td>35764.3120</td>\n",
              "      <td>0.60</td>\n",
              "      <td>454</td>\n",
              "    </tr>\n",
              "    <tr>\n",
              "      <th>47</th>\n",
              "      <td>Wisconsin</td>\n",
              "      <td>8401.8004</td>\n",
              "      <td>32114.6100</td>\n",
              "      <td>0.00</td>\n",
              "      <td>463</td>\n",
              "    </tr>\n",
              "    <tr>\n",
              "      <th>37</th>\n",
              "      <td>Rhode Island</td>\n",
              "      <td>7285.6293</td>\n",
              "      <td>22627.9560</td>\n",
              "      <td>1.20</td>\n",
              "      <td>199</td>\n",
              "    </tr>\n",
              "    <tr>\n",
              "      <th>18</th>\n",
              "      <td>Maryland</td>\n",
              "      <td>7031.1788</td>\n",
              "      <td>23705.5230</td>\n",
              "      <td>0.60</td>\n",
              "      <td>420</td>\n",
              "    </tr>\n",
              "    <tr>\n",
              "      <th>19</th>\n",
              "      <td>Massachusetts</td>\n",
              "      <td>6785.5016</td>\n",
              "      <td>28634.4340</td>\n",
              "      <td>2.10</td>\n",
              "      <td>491</td>\n",
              "    </tr>\n",
              "    <tr>\n",
              "      <th>23</th>\n",
              "      <td>Missouri</td>\n",
              "      <td>6436.2105</td>\n",
              "      <td>22205.1500</td>\n",
              "      <td>0.00</td>\n",
              "      <td>252</td>\n",
              "    </tr>\n",
              "    <tr>\n",
              "      <th>0</th>\n",
              "      <td>Alabama</td>\n",
              "      <td>5786.8253</td>\n",
              "      <td>19510.6400</td>\n",
              "      <td>0.00</td>\n",
              "      <td>256</td>\n",
              "    </tr>\n",
              "    <tr>\n",
              "      <th>34</th>\n",
              "      <td>Oklahoma</td>\n",
              "      <td>4853.9560</td>\n",
              "      <td>19683.3900</td>\n",
              "      <td>0.00</td>\n",
              "      <td>247</td>\n",
              "    </tr>\n",
              "    <tr>\n",
              "      <th>2</th>\n",
              "      <td>Arkansas</td>\n",
              "      <td>4008.6871</td>\n",
              "      <td>11678.1300</td>\n",
              "      <td>0.00</td>\n",
              "      <td>240</td>\n",
              "    </tr>\n",
              "    <tr>\n",
              "      <th>5</th>\n",
              "      <td>Connecticut</td>\n",
              "      <td>3511.4918</td>\n",
              "      <td>13384.3570</td>\n",
              "      <td>0.60</td>\n",
              "      <td>281</td>\n",
              "    </tr>\n",
              "    <tr>\n",
              "      <th>26</th>\n",
              "      <td>Nevada</td>\n",
              "      <td>3316.7659</td>\n",
              "      <td>16729.1020</td>\n",
              "      <td>2.40</td>\n",
              "      <td>168</td>\n",
              "    </tr>\n",
              "    <tr>\n",
              "      <th>22</th>\n",
              "      <td>Mississippi</td>\n",
              "      <td>3172.9762</td>\n",
              "      <td>10771.3400</td>\n",
              "      <td>0.00</td>\n",
              "      <td>221</td>\n",
              "    </tr>\n",
              "    <tr>\n",
              "      <th>42</th>\n",
              "      <td>Utah</td>\n",
              "      <td>2546.5335</td>\n",
              "      <td>11220.0560</td>\n",
              "      <td>3.20</td>\n",
              "      <td>219</td>\n",
              "    </tr>\n",
              "    <tr>\n",
              "      <th>43</th>\n",
              "      <td>Vermont</td>\n",
              "      <td>2244.9783</td>\n",
              "      <td>8929.3700</td>\n",
              "      <td>0.00</td>\n",
              "      <td>50</td>\n",
              "    </tr>\n",
              "    <tr>\n",
              "      <th>16</th>\n",
              "      <td>Louisiana</td>\n",
              "      <td>2196.1023</td>\n",
              "      <td>9217.0300</td>\n",
              "      <td>0.00</td>\n",
              "      <td>156</td>\n",
              "    </tr>\n",
              "    <tr>\n",
              "      <th>25</th>\n",
              "      <td>Nebraska</td>\n",
              "      <td>2037.0942</td>\n",
              "      <td>7464.9300</td>\n",
              "      <td>0.00</td>\n",
              "      <td>136</td>\n",
              "    </tr>\n",
              "    <tr>\n",
              "      <th>24</th>\n",
              "      <td>Montana</td>\n",
              "      <td>1833.3285</td>\n",
              "      <td>5589.3520</td>\n",
              "      <td>1.00</td>\n",
              "      <td>56</td>\n",
              "    </tr>\n",
              "    <tr>\n",
              "      <th>38</th>\n",
              "      <td>South Carolina</td>\n",
              "      <td>1769.0566</td>\n",
              "      <td>8481.7100</td>\n",
              "      <td>0.00</td>\n",
              "      <td>172</td>\n",
              "    </tr>\n",
              "    <tr>\n",
              "      <th>27</th>\n",
              "      <td>New Hampshire</td>\n",
              "      <td>1706.5028</td>\n",
              "      <td>7292.5240</td>\n",
              "      <td>0.30</td>\n",
              "      <td>127</td>\n",
              "    </tr>\n",
              "    <tr>\n",
              "      <th>13</th>\n",
              "      <td>Iowa</td>\n",
              "      <td>1183.8119</td>\n",
              "      <td>4579.7600</td>\n",
              "      <td>0.00</td>\n",
              "      <td>112</td>\n",
              "    </tr>\n",
              "    <tr>\n",
              "      <th>29</th>\n",
              "      <td>New Mexico</td>\n",
              "      <td>1157.1161</td>\n",
              "      <td>4783.5220</td>\n",
              "      <td>2.20</td>\n",
              "      <td>151</td>\n",
              "    </tr>\n",
              "    <tr>\n",
              "      <th>7</th>\n",
              "      <td>District of Columbia</td>\n",
              "      <td>1059.5893</td>\n",
              "      <td>2865.0200</td>\n",
              "      <td>0.00</td>\n",
              "      <td>40</td>\n",
              "    </tr>\n",
              "    <tr>\n",
              "      <th>14</th>\n",
              "      <td>Kansas</td>\n",
              "      <td>836.4435</td>\n",
              "      <td>2914.3100</td>\n",
              "      <td>0.00</td>\n",
              "      <td>74</td>\n",
              "    </tr>\n",
              "    <tr>\n",
              "      <th>10</th>\n",
              "      <td>Idaho</td>\n",
              "      <td>826.7231</td>\n",
              "      <td>4382.4860</td>\n",
              "      <td>1.80</td>\n",
              "      <td>64</td>\n",
              "    </tr>\n",
              "    <tr>\n",
              "      <th>17</th>\n",
              "      <td>Maine</td>\n",
              "      <td>454.4862</td>\n",
              "      <td>1270.5300</td>\n",
              "      <td>0.00</td>\n",
              "      <td>35</td>\n",
              "    </tr>\n",
              "    <tr>\n",
              "      <th>39</th>\n",
              "      <td>South Dakota</td>\n",
              "      <td>394.8283</td>\n",
              "      <td>1315.5600</td>\n",
              "      <td>0.00</td>\n",
              "      <td>42</td>\n",
              "    </tr>\n",
              "    <tr>\n",
              "      <th>32</th>\n",
              "      <td>North Dakota</td>\n",
              "      <td>230.1497</td>\n",
              "      <td>919.9100</td>\n",
              "      <td>0.00</td>\n",
              "      <td>30</td>\n",
              "    </tr>\n",
              "    <tr>\n",
              "      <th>46</th>\n",
              "      <td>West Virginia</td>\n",
              "      <td>185.9216</td>\n",
              "      <td>1209.8240</td>\n",
              "      <td>0.30</td>\n",
              "      <td>18</td>\n",
              "    </tr>\n",
              "    <tr>\n",
              "      <th>48</th>\n",
              "      <td>Wyoming</td>\n",
              "      <td>100.1960</td>\n",
              "      <td>1603.1360</td>\n",
              "      <td>0.20</td>\n",
              "      <td>4</td>\n",
              "    </tr>\n",
              "    <tr>\n",
              "      <th>35</th>\n",
              "      <td>Oregon</td>\n",
              "      <td>-1190.4705</td>\n",
              "      <td>17431.1500</td>\n",
              "      <td>35.80</td>\n",
              "      <td>499</td>\n",
              "    </tr>\n",
              "    <tr>\n",
              "      <th>8</th>\n",
              "      <td>Florida</td>\n",
              "      <td>-3399.3017</td>\n",
              "      <td>89473.7080</td>\n",
              "      <td>114.65</td>\n",
              "      <td>1379</td>\n",
              "    </tr>\n",
              "    <tr>\n",
              "      <th>1</th>\n",
              "      <td>Arizona</td>\n",
              "      <td>-3427.9246</td>\n",
              "      <td>35282.0010</td>\n",
              "      <td>68.00</td>\n",
              "      <td>862</td>\n",
              "    </tr>\n",
              "    <tr>\n",
              "      <th>40</th>\n",
              "      <td>Tennessee</td>\n",
              "      <td>-5341.6936</td>\n",
              "      <td>30661.8730</td>\n",
              "      <td>53.30</td>\n",
              "      <td>681</td>\n",
              "    </tr>\n",
              "    <tr>\n",
              "      <th>4</th>\n",
              "      <td>Colorado</td>\n",
              "      <td>-6527.8579</td>\n",
              "      <td>32108.1180</td>\n",
              "      <td>57.60</td>\n",
              "      <td>693</td>\n",
              "    </tr>\n",
              "    <tr>\n",
              "      <th>31</th>\n",
              "      <td>North Carolina</td>\n",
              "      <td>-7490.9122</td>\n",
              "      <td>55603.1640</td>\n",
              "      <td>70.60</td>\n",
              "      <td>983</td>\n",
              "    </tr>\n",
              "    <tr>\n",
              "      <th>11</th>\n",
              "      <td>Illinois</td>\n",
              "      <td>-12607.8870</td>\n",
              "      <td>80166.1010</td>\n",
              "      <td>191.90</td>\n",
              "      <td>1845</td>\n",
              "    </tr>\n",
              "    <tr>\n",
              "      <th>36</th>\n",
              "      <td>Pennsylvania</td>\n",
              "      <td>-15559.9603</td>\n",
              "      <td>116511.9140</td>\n",
              "      <td>192.90</td>\n",
              "      <td>2153</td>\n",
              "    </tr>\n",
              "    <tr>\n",
              "      <th>33</th>\n",
              "      <td>Ohio</td>\n",
              "      <td>-16971.3766</td>\n",
              "      <td>78258.1360</td>\n",
              "      <td>152.40</td>\n",
              "      <td>1759</td>\n",
              "    </tr>\n",
              "    <tr>\n",
              "      <th>41</th>\n",
              "      <td>Texas</td>\n",
              "      <td>-25729.3563</td>\n",
              "      <td>170188.0458</td>\n",
              "      <td>364.64</td>\n",
              "      <td>3724</td>\n",
              "    </tr>\n",
              "  </tbody>\n",
              "</table>\n",
              "</div>"
            ],
            "text/plain": [
              "                   State      Profit        Sales  Discount  Quantity\n",
              "3             California  76381.3871  457687.6315    145.60      7667\n",
              "30              New York  74038.5486  310876.2710     62.40      4224\n",
              "45            Washington  33402.6517  138641.2700     32.40      1883\n",
              "20              Michigan  24463.1876   76269.6140      1.80       946\n",
              "44              Virginia  18597.9504   70636.7200      0.00       893\n",
              "12               Indiana  18382.9363   53555.3600      0.00       578\n",
              "9                Georgia  16250.0433   49095.8400      0.00       705\n",
              "15              Kentucky  11199.6966   36591.7500      0.00       523\n",
              "21             Minnesota  10823.1874   29863.1500      0.00       331\n",
              "6               Delaware   9977.3748   27451.0690      0.60       367\n",
              "28            New Jersey   9772.9138   35764.3120      0.60       454\n",
              "47             Wisconsin   8401.8004   32114.6100      0.00       463\n",
              "37          Rhode Island   7285.6293   22627.9560      1.20       199\n",
              "18              Maryland   7031.1788   23705.5230      0.60       420\n",
              "19         Massachusetts   6785.5016   28634.4340      2.10       491\n",
              "23              Missouri   6436.2105   22205.1500      0.00       252\n",
              "0                Alabama   5786.8253   19510.6400      0.00       256\n",
              "34              Oklahoma   4853.9560   19683.3900      0.00       247\n",
              "2               Arkansas   4008.6871   11678.1300      0.00       240\n",
              "5            Connecticut   3511.4918   13384.3570      0.60       281\n",
              "26                Nevada   3316.7659   16729.1020      2.40       168\n",
              "22           Mississippi   3172.9762   10771.3400      0.00       221\n",
              "42                  Utah   2546.5335   11220.0560      3.20       219\n",
              "43               Vermont   2244.9783    8929.3700      0.00        50\n",
              "16             Louisiana   2196.1023    9217.0300      0.00       156\n",
              "25              Nebraska   2037.0942    7464.9300      0.00       136\n",
              "24               Montana   1833.3285    5589.3520      1.00        56\n",
              "38        South Carolina   1769.0566    8481.7100      0.00       172\n",
              "27         New Hampshire   1706.5028    7292.5240      0.30       127\n",
              "13                  Iowa   1183.8119    4579.7600      0.00       112\n",
              "29            New Mexico   1157.1161    4783.5220      2.20       151\n",
              "7   District of Columbia   1059.5893    2865.0200      0.00        40\n",
              "14                Kansas    836.4435    2914.3100      0.00        74\n",
              "10                 Idaho    826.7231    4382.4860      1.80        64\n",
              "17                 Maine    454.4862    1270.5300      0.00        35\n",
              "39          South Dakota    394.8283    1315.5600      0.00        42\n",
              "32          North Dakota    230.1497     919.9100      0.00        30\n",
              "46         West Virginia    185.9216    1209.8240      0.30        18\n",
              "48               Wyoming    100.1960    1603.1360      0.20         4\n",
              "35                Oregon  -1190.4705   17431.1500     35.80       499\n",
              "8                Florida  -3399.3017   89473.7080    114.65      1379\n",
              "1                Arizona  -3427.9246   35282.0010     68.00       862\n",
              "40             Tennessee  -5341.6936   30661.8730     53.30       681\n",
              "4               Colorado  -6527.8579   32108.1180     57.60       693\n",
              "31        North Carolina  -7490.9122   55603.1640     70.60       983\n",
              "11              Illinois -12607.8870   80166.1010    191.90      1845\n",
              "36          Pennsylvania -15559.9603  116511.9140    192.90      2153\n",
              "33                  Ohio -16971.3766   78258.1360    152.40      1759\n",
              "41                 Texas -25729.3563  170188.0458    364.64      3724"
            ]
          },
          "metadata": {
            "tags": []
          },
          "execution_count": 19
        }
      ]
    },
    {
      "cell_type": "code",
      "metadata": {
        "id": "Es3EEOPkqnAi",
        "outputId": "2390bba5-7afd-4bc6-dc4c-258faabdbd0f",
        "colab": {
          "base_uri": "https://localhost:8080/",
          "height": 712
        }
      },
      "source": [
        "Sort_state.plot(x=\t\"State\", y=[\"Profit\", \"Sales\", \"Quantity\"], kind=\"bar\",figsize= (20,10))"
      ],
      "execution_count": 20,
      "outputs": [
        {
          "output_type": "execute_result",
          "data": {
            "text/plain": [
              "<matplotlib.axes._subplots.AxesSubplot at 0x7f6d74d1f198>"
            ]
          },
          "metadata": {
            "tags": []
          },
          "execution_count": 20
        },
        {
          "output_type": "display_data",
          "data": {
            "image/png": "[encoded data removed]",
            "text/plain": [
              "<Figure size 1440x720 with 1 Axes>"
            ]
          },
          "metadata": {
            "tags": [],
            "needs_background": "light"
          }
        }
      ]
    },
    {
      "cell_type": "markdown",
      "metadata": {
        "id": "9i_RXy-nfuy7"
      },
      "source": [
        "\n",
        "\n",
        "*   California and New York are giving highest profit.\n",
        "*   But if sales increases in New York, it will give comapratively more profit.\n",
        "*   Business in some cities are making loss irrespective of good discount. Company must improve their business strategy in those cities.\n",
        "\n",
        "\n",
        "\n",
        "\n"
      ]
    },
    {
      "cell_type": "code",
      "metadata": {
        "id": "8c3Mlmr_PhiB",
        "outputId": "545a9587-0f66-4a38-97cc-85f91fe7200e",
        "colab": {
          "base_uri": "https://localhost:8080/",
          "height": 196
        }
      },
      "source": [
        "Sort_category= df_sample.groupby('Category', as_index=False)['Profit','Sales','Discount','Quantity'].sum()\n",
        "Sort_category.sort_values(['Profit'], axis=0,ascending= False)"
      ],
      "execution_count": 21,
      "outputs": [
        {
          "output_type": "stream",
          "text": [
            "/usr/local/lib/python3.6/dist-packages/ipykernel_launcher.py:1: FutureWarning: Indexing with multiple keys (implicitly converted to a tuple of keys) will be deprecated, use a list instead.\n",
            "  \"\"\"Entry point for launching an IPython kernel.\n"
          ],
          "name": "stderr"
        },
        {
          "output_type": "execute_result",
          "data": {
            "text/html": [
              "<div>\n",
              "<style scoped>\n",
              "    .dataframe tbody tr th:only-of-type {\n",
              "        vertical-align: middle;\n",
              "    }\n",
              "\n",
              "    .dataframe tbody tr th {\n",
              "        vertical-align: top;\n",
              "    }\n",
              "\n",
              "    .dataframe thead th {\n",
              "        text-align: right;\n",
              "    }\n",
              "</style>\n",
              "<table border=\"1\" class=\"dataframe\">\n",
              "  <thead>\n",
              "    <tr style=\"text-align: right;\">\n",
              "      <th></th>\n",
              "      <th>Category</th>\n",
              "      <th>Profit</th>\n",
              "      <th>Sales</th>\n",
              "      <th>Discount</th>\n",
              "      <th>Quantity</th>\n",
              "    </tr>\n",
              "  </thead>\n",
              "  <tbody>\n",
              "    <tr>\n",
              "      <th>2</th>\n",
              "      <td>Technology</td>\n",
              "      <td>145454.9481</td>\n",
              "      <td>836154.0330</td>\n",
              "      <td>244.40</td>\n",
              "      <td>6939</td>\n",
              "    </tr>\n",
              "    <tr>\n",
              "      <th>1</th>\n",
              "      <td>Office Supplies</td>\n",
              "      <td>122490.8008</td>\n",
              "      <td>719047.0320</td>\n",
              "      <td>947.80</td>\n",
              "      <td>22906</td>\n",
              "    </tr>\n",
              "    <tr>\n",
              "      <th>0</th>\n",
              "      <td>Furniture</td>\n",
              "      <td>18451.2728</td>\n",
              "      <td>741999.7953</td>\n",
              "      <td>368.89</td>\n",
              "      <td>8028</td>\n",
              "    </tr>\n",
              "  </tbody>\n",
              "</table>\n",
              "</div>"
            ],
            "text/plain": [
              "          Category       Profit        Sales  Discount  Quantity\n",
              "2       Technology  145454.9481  836154.0330    244.40      6939\n",
              "1  Office Supplies  122490.8008  719047.0320    947.80     22906\n",
              "0        Furniture   18451.2728  741999.7953    368.89      8028"
            ]
          },
          "metadata": {
            "tags": []
          },
          "execution_count": 21
        }
      ]
    },
    {
      "cell_type": "code",
      "metadata": {
        "id": "Du_pP3zvukQE",
        "outputId": "0e46c43c-9082-412c-c4ff-eb8507c2331f",
        "colab": {
          "base_uri": "https://localhost:8080/",
          "height": 470
        }
      },
      "source": [
        "Sort_category.plot(x=\t\"Category\", y=[\"Profit\", \"Sales\", \"Quantity\"], kind=\"bar\",figsize= (15,6))"
      ],
      "execution_count": 65,
      "outputs": [
        {
          "output_type": "execute_result",
          "data": {
            "text/plain": [
              "<matplotlib.axes._subplots.AxesSubplot at 0x7f6d6a26e2e8>"
            ]
          },
          "metadata": {
            "tags": []
          },
          "execution_count": 65
        },
        {
          "output_type": "display_data",
          "data": {
            "image/png": "[encoded data removed]",
            "text/plain": [
              "<Figure size 1080x432 with 1 Axes>"
            ]
          },
          "metadata": {
            "tags": [],
            "needs_background": "light"
          }
        }
      ]
    },
    {
      "cell_type": "markdown",
      "metadata": {
        "id": "ODlIOVD-hQA2"
      },
      "source": [
        "\n",
        "\n",
        "*   Sales in technology and Office supplies products should be increased as it is more profitable.\n",
        "*   Irrespective of good sales, selling furniture products making less profit.\n",
        "\n"
      ]
    },
    {
      "cell_type": "code",
      "metadata": {
        "id": "k7y5czFdP3z9",
        "outputId": "5723b8cd-0d92-4ca7-8775-689e35188d02",
        "colab": {
          "base_uri": "https://localhost:8080/",
          "height": 630
        }
      },
      "source": [
        "Sort_subcategory= df_sample.groupby('Sub-Category', as_index=False)['Profit','Sales','Discount','Quantity'].sum()\n",
        "Sort_subcategory.sort_values(['Profit'], axis=0,ascending= False)\n"
      ],
      "execution_count": 23,
      "outputs": [
        {
          "output_type": "stream",
          "text": [
            "/usr/local/lib/python3.6/dist-packages/ipykernel_launcher.py:1: FutureWarning: Indexing with multiple keys (implicitly converted to a tuple of keys) will be deprecated, use a list instead.\n",
            "  \"\"\"Entry point for launching an IPython kernel.\n"
          ],
          "name": "stderr"
        },
        {
          "output_type": "execute_result",
          "data": {
            "text/html": [
              "<div>\n",
              "<style scoped>\n",
              "    .dataframe tbody tr th:only-of-type {\n",
              "        vertical-align: middle;\n",
              "    }\n",
              "\n",
              "    .dataframe tbody tr th {\n",
              "        vertical-align: top;\n",
              "    }\n",
              "\n",
              "    .dataframe thead th {\n",
              "        text-align: right;\n",
              "    }\n",
              "</style>\n",
              "<table border=\"1\" class=\"dataframe\">\n",
              "  <thead>\n",
              "    <tr style=\"text-align: right;\">\n",
              "      <th></th>\n",
              "      <th>Sub-Category</th>\n",
              "      <th>Profit</th>\n",
              "      <th>Sales</th>\n",
              "      <th>Discount</th>\n",
              "      <th>Quantity</th>\n",
              "    </tr>\n",
              "  </thead>\n",
              "  <tbody>\n",
              "    <tr>\n",
              "      <th>6</th>\n",
              "      <td>Copiers</td>\n",
              "      <td>55617.8249</td>\n",
              "      <td>149528.0300</td>\n",
              "      <td>11.00</td>\n",
              "      <td>234</td>\n",
              "    </tr>\n",
              "    <tr>\n",
              "      <th>13</th>\n",
              "      <td>Phones</td>\n",
              "      <td>44515.7306</td>\n",
              "      <td>330007.0540</td>\n",
              "      <td>137.40</td>\n",
              "      <td>3289</td>\n",
              "    </tr>\n",
              "    <tr>\n",
              "      <th>0</th>\n",
              "      <td>Accessories</td>\n",
              "      <td>41936.6357</td>\n",
              "      <td>167380.3180</td>\n",
              "      <td>60.80</td>\n",
              "      <td>2976</td>\n",
              "    </tr>\n",
              "    <tr>\n",
              "      <th>12</th>\n",
              "      <td>Paper</td>\n",
              "      <td>34053.5693</td>\n",
              "      <td>78479.2060</td>\n",
              "      <td>102.60</td>\n",
              "      <td>5178</td>\n",
              "    </tr>\n",
              "    <tr>\n",
              "      <th>3</th>\n",
              "      <td>Binders</td>\n",
              "      <td>30221.7633</td>\n",
              "      <td>203412.7330</td>\n",
              "      <td>567.00</td>\n",
              "      <td>5974</td>\n",
              "    </tr>\n",
              "    <tr>\n",
              "      <th>5</th>\n",
              "      <td>Chairs</td>\n",
              "      <td>26590.1663</td>\n",
              "      <td>328449.1030</td>\n",
              "      <td>105.00</td>\n",
              "      <td>2356</td>\n",
              "    </tr>\n",
              "    <tr>\n",
              "      <th>14</th>\n",
              "      <td>Storage</td>\n",
              "      <td>21278.8264</td>\n",
              "      <td>223843.6080</td>\n",
              "      <td>63.20</td>\n",
              "      <td>3158</td>\n",
              "    </tr>\n",
              "    <tr>\n",
              "      <th>1</th>\n",
              "      <td>Appliances</td>\n",
              "      <td>18138.0054</td>\n",
              "      <td>107532.1610</td>\n",
              "      <td>77.60</td>\n",
              "      <td>1729</td>\n",
              "    </tr>\n",
              "    <tr>\n",
              "      <th>9</th>\n",
              "      <td>Furnishings</td>\n",
              "      <td>13059.1436</td>\n",
              "      <td>91705.1640</td>\n",
              "      <td>132.40</td>\n",
              "      <td>3563</td>\n",
              "    </tr>\n",
              "    <tr>\n",
              "      <th>7</th>\n",
              "      <td>Envelopes</td>\n",
              "      <td>6964.1767</td>\n",
              "      <td>16476.4020</td>\n",
              "      <td>20.40</td>\n",
              "      <td>906</td>\n",
              "    </tr>\n",
              "    <tr>\n",
              "      <th>2</th>\n",
              "      <td>Art</td>\n",
              "      <td>6527.7870</td>\n",
              "      <td>27118.7920</td>\n",
              "      <td>59.60</td>\n",
              "      <td>3000</td>\n",
              "    </tr>\n",
              "    <tr>\n",
              "      <th>10</th>\n",
              "      <td>Labels</td>\n",
              "      <td>5546.2540</td>\n",
              "      <td>12486.3120</td>\n",
              "      <td>25.00</td>\n",
              "      <td>1400</td>\n",
              "    </tr>\n",
              "    <tr>\n",
              "      <th>11</th>\n",
              "      <td>Machines</td>\n",
              "      <td>3384.7569</td>\n",
              "      <td>189238.6310</td>\n",
              "      <td>35.20</td>\n",
              "      <td>440</td>\n",
              "    </tr>\n",
              "    <tr>\n",
              "      <th>8</th>\n",
              "      <td>Fasteners</td>\n",
              "      <td>949.5182</td>\n",
              "      <td>3024.2800</td>\n",
              "      <td>17.80</td>\n",
              "      <td>914</td>\n",
              "    </tr>\n",
              "    <tr>\n",
              "      <th>15</th>\n",
              "      <td>Supplies</td>\n",
              "      <td>-1189.0995</td>\n",
              "      <td>46673.5380</td>\n",
              "      <td>14.60</td>\n",
              "      <td>647</td>\n",
              "    </tr>\n",
              "    <tr>\n",
              "      <th>4</th>\n",
              "      <td>Bookcases</td>\n",
              "      <td>-3472.5560</td>\n",
              "      <td>114879.9963</td>\n",
              "      <td>48.14</td>\n",
              "      <td>868</td>\n",
              "    </tr>\n",
              "    <tr>\n",
              "      <th>16</th>\n",
              "      <td>Tables</td>\n",
              "      <td>-17725.4811</td>\n",
              "      <td>206965.5320</td>\n",
              "      <td>83.35</td>\n",
              "      <td>1241</td>\n",
              "    </tr>\n",
              "  </tbody>\n",
              "</table>\n",
              "</div>"
            ],
            "text/plain": [
              "   Sub-Category      Profit        Sales  Discount  Quantity\n",
              "6       Copiers  55617.8249  149528.0300     11.00       234\n",
              "13       Phones  44515.7306  330007.0540    137.40      3289\n",
              "0   Accessories  41936.6357  167380.3180     60.80      2976\n",
              "12        Paper  34053.5693   78479.2060    102.60      5178\n",
              "3       Binders  30221.7633  203412.7330    567.00      5974\n",
              "5        Chairs  26590.1663  328449.1030    105.00      2356\n",
              "14      Storage  21278.8264  223843.6080     63.20      3158\n",
              "1    Appliances  18138.0054  107532.1610     77.60      1729\n",
              "9   Furnishings  13059.1436   91705.1640    132.40      3563\n",
              "7     Envelopes   6964.1767   16476.4020     20.40       906\n",
              "2           Art   6527.7870   27118.7920     59.60      3000\n",
              "10       Labels   5546.2540   12486.3120     25.00      1400\n",
              "11     Machines   3384.7569  189238.6310     35.20       440\n",
              "8     Fasteners    949.5182    3024.2800     17.80       914\n",
              "15     Supplies  -1189.0995   46673.5380     14.60       647\n",
              "4     Bookcases  -3472.5560  114879.9963     48.14       868\n",
              "16       Tables -17725.4811  206965.5320     83.35      1241"
            ]
          },
          "metadata": {
            "tags": []
          },
          "execution_count": 23
        }
      ]
    },
    {
      "cell_type": "code",
      "metadata": {
        "id": "xlRAiUm3OVbh",
        "outputId": "e5a7a4cd-817b-4ef5-dbf0-ef7c1e807e1d",
        "colab": {
          "base_uri": "https://localhost:8080/",
          "height": 454
        }
      },
      "source": [
        "Sort_subcategory.plot(x=\t\"Sub-Category\", y=[\"Profit\", \"Sales\", \"Quantity\"], kind=\"bar\",figsize= (15,6))"
      ],
      "execution_count": 66,
      "outputs": [
        {
          "output_type": "execute_result",
          "data": {
            "text/plain": [
              "<matplotlib.axes._subplots.AxesSubplot at 0x7f6d6a2694e0>"
            ]
          },
          "metadata": {
            "tags": []
          },
          "execution_count": 66
        },
        {
          "output_type": "display_data",
          "data": {
            "image/png": "[encoded data removed]",
            "text/plain": [
              "<Figure size 1080x432 with 1 Axes>"
            ]
          },
          "metadata": {
            "tags": [],
            "needs_background": "light"
          }
        }
      ]
    },
    {
      "cell_type": "markdown",
      "metadata": {
        "id": "tum67OYuiFkq"
      },
      "source": [
        "\n",
        "\n",
        "*   Sales of Copiers should increase as it is giving highest profit with almost no discount. \n",
        "*   Company must look into products such as Tables, Suppliers, Bookcases e.t.c which is in loss.\n",
        "\n"
      ]
    }
  ]
}